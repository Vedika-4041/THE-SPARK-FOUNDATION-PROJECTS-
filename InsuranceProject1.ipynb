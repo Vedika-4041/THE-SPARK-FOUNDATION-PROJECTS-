{
  "nbformat": 4,
  "nbformat_minor": 0,
  "metadata": {
    "colab": {
      "name": "InsuranceProject2.ipynb",
      "provenance": [],
      "collapsed_sections": []
    },
    "kernelspec": {
      "name": "python3",
      "display_name": "Python 3"
    },
    "language_info": {
      "name": "python"
    }
  },
  "cells": [
    {
      "cell_type": "code",
      "execution_count": null,
      "metadata": {
        "id": "SuUyDK52gQA8"
      },
      "outputs": [],
      "source": [
        "import pandas as pd\n",
        "import numpy as np\n",
        "import io\n",
        "import matplotlib.pyplot as plt\n",
        "%matplotlib inline"
      ]
    },
    {
      "cell_type": "code",
      "source": [
        "from google.colab import files\n",
        "uploaded=files.upload()"
      ],
      "metadata": {
        "colab": {
          "resources": {
            "http://localhost:8080/nbextensions/google.colab/files.js": {
              "data": "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",
              "ok": true,
              "headers": [
                [
                  "content-type",
                  "application/javascript"
                ]
              ],
              "status": 200,
              "status_text": ""
            }
          },
          "base_uri": "https://localhost:8080/",
          "height": 74
        },
        "id": "CGXBOJNii4t6",
        "outputId": "1a56cb2e-9712-4243-f3b8-e43de37824e2"
      },
      "execution_count": null,
      "outputs": [
        {
          "output_type": "display_data",
          "data": {
            "text/html": [
              "\n",
              "     <input type=\"file\" id=\"files-c9e0439a-3eec-43a0-a1cf-1f9c93ed0a40\" name=\"files[]\" multiple disabled\n",
              "        style=\"border:none\" />\n",
              "     <output id=\"result-c9e0439a-3eec-43a0-a1cf-1f9c93ed0a40\">\n",
              "      Upload widget is only available when the cell has been executed in the\n",
              "      current browser session. Please rerun this cell to enable.\n",
              "      </output>\n",
              "      <script src=\"/nbextensions/google.colab/files.js\"></script> "
            ],
            "text/plain": [
              "<IPython.core.display.HTML object>"
            ]
          },
          "metadata": {}
        },
        {
          "output_type": "stream",
          "name": "stdout",
          "text": [
            "Saving insurance.csv to insurance (2).csv\n"
          ]
        }
      ]
    },
    {
      "cell_type": "code",
      "source": [
        "df=pd.read_csv(io.BytesIO(uploaded['insurance.csv']))\n",
        "print(df)"
      ],
      "metadata": {
        "colab": {
          "base_uri": "https://localhost:8080/"
        },
        "id": "tpmdw2q5jfSb",
        "outputId": "87274f9c-2afd-46cd-c4df-3c3f481af2cb"
      },
      "execution_count": null,
      "outputs": [
        {
          "output_type": "stream",
          "name": "stdout",
          "text": [
            "      age     sex     bmi  children smoker     region      charges\n",
            "0      19  female  27.900         0    yes  southwest  16884.92400\n",
            "1      18    male  33.770         1     no  southeast   1725.55230\n",
            "2      28    male  33.000         3     no  southeast   4449.46200\n",
            "3      33    male  22.705         0     no  northwest  21984.47061\n",
            "4      32    male  28.880         0     no  northwest   3866.85520\n",
            "...   ...     ...     ...       ...    ...        ...          ...\n",
            "1333   50    male  30.970         3     no  northwest  10600.54830\n",
            "1334   18  female  31.920         0     no  northeast   2205.98080\n",
            "1335   18  female  36.850         0     no  southeast   1629.83350\n",
            "1336   21  female  25.800         0     no  southwest   2007.94500\n",
            "1337   61  female  29.070         0    yes  northwest  29141.36030\n",
            "\n",
            "[1338 rows x 7 columns]\n"
          ]
        }
      ]
    },
    {
      "cell_type": "code",
      "source": [
        "#Perform EDA Analysis on the data Set\n",
        "df.shape"
      ],
      "metadata": {
        "id": "WgT4AajykTM_",
        "colab": {
          "base_uri": "https://localhost:8080/"
        },
        "outputId": "3b8eecea-c8a5-46cd-ad30-b23c0e8737b5"
      },
      "execution_count": null,
      "outputs": [
        {
          "output_type": "execute_result",
          "data": {
            "text/plain": [
              "(1338, 7)"
            ]
          },
          "metadata": {},
          "execution_count": 48
        }
      ]
    },
    {
      "cell_type": "code",
      "source": [
        "df.describe()"
      ],
      "metadata": {
        "colab": {
          "base_uri": "https://localhost:8080/",
          "height": 300
        },
        "id": "mS56cwPrvVrJ",
        "outputId": "59b8e79d-5b21-4536-e23c-526256988d4f"
      },
      "execution_count": null,
      "outputs": [
        {
          "output_type": "execute_result",
          "data": {
            "text/html": [
              "\n",
              "  <div id=\"df-16eb90fc-fb33-473c-bec7-c485e48686fd\">\n",
              "    <div class=\"colab-df-container\">\n",
              "      <div>\n",
              "<style scoped>\n",
              "    .dataframe tbody tr th:only-of-type {\n",
              "        vertical-align: middle;\n",
              "    }\n",
              "\n",
              "    .dataframe tbody tr th {\n",
              "        vertical-align: top;\n",
              "    }\n",
              "\n",
              "    .dataframe thead th {\n",
              "        text-align: right;\n",
              "    }\n",
              "</style>\n",
              "<table border=\"1\" class=\"dataframe\">\n",
              "  <thead>\n",
              "    <tr style=\"text-align: right;\">\n",
              "      <th></th>\n",
              "      <th>age</th>\n",
              "      <th>bmi</th>\n",
              "      <th>children</th>\n",
              "      <th>charges</th>\n",
              "    </tr>\n",
              "  </thead>\n",
              "  <tbody>\n",
              "    <tr>\n",
              "      <th>count</th>\n",
              "      <td>1338.000000</td>\n",
              "      <td>1338.000000</td>\n",
              "      <td>1338.000000</td>\n",
              "      <td>1338.000000</td>\n",
              "    </tr>\n",
              "    <tr>\n",
              "      <th>mean</th>\n",
              "      <td>39.207025</td>\n",
              "      <td>30.663397</td>\n",
              "      <td>1.094918</td>\n",
              "      <td>13270.422265</td>\n",
              "    </tr>\n",
              "    <tr>\n",
              "      <th>std</th>\n",
              "      <td>14.049960</td>\n",
              "      <td>6.098187</td>\n",
              "      <td>1.205493</td>\n",
              "      <td>12110.011237</td>\n",
              "    </tr>\n",
              "    <tr>\n",
              "      <th>min</th>\n",
              "      <td>18.000000</td>\n",
              "      <td>15.960000</td>\n",
              "      <td>0.000000</td>\n",
              "      <td>1121.873900</td>\n",
              "    </tr>\n",
              "    <tr>\n",
              "      <th>25%</th>\n",
              "      <td>27.000000</td>\n",
              "      <td>26.296250</td>\n",
              "      <td>0.000000</td>\n",
              "      <td>4740.287150</td>\n",
              "    </tr>\n",
              "    <tr>\n",
              "      <th>50%</th>\n",
              "      <td>39.000000</td>\n",
              "      <td>30.400000</td>\n",
              "      <td>1.000000</td>\n",
              "      <td>9382.033000</td>\n",
              "    </tr>\n",
              "    <tr>\n",
              "      <th>75%</th>\n",
              "      <td>51.000000</td>\n",
              "      <td>34.693750</td>\n",
              "      <td>2.000000</td>\n",
              "      <td>16639.912515</td>\n",
              "    </tr>\n",
              "    <tr>\n",
              "      <th>max</th>\n",
              "      <td>64.000000</td>\n",
              "      <td>53.130000</td>\n",
              "      <td>5.000000</td>\n",
              "      <td>63770.428010</td>\n",
              "    </tr>\n",
              "  </tbody>\n",
              "</table>\n",
              "</div>\n",
              "      <button class=\"colab-df-convert\" onclick=\"convertToInteractive('df-16eb90fc-fb33-473c-bec7-c485e48686fd')\"\n",
              "              title=\"Convert this dataframe to an interactive table.\"\n",
              "              style=\"display:none;\">\n",
              "        \n",
              "  <svg xmlns=\"http://www.w3.org/2000/svg\" height=\"24px\"viewBox=\"0 0 24 24\"\n",
              "       width=\"24px\">\n",
              "    <path d=\"M0 0h24v24H0V0z\" fill=\"none\"/>\n",
              "    <path d=\"M18.56 5.44l.94 2.06.94-2.06 2.06-.94-2.06-.94-.94-2.06-.94 2.06-2.06.94zm-11 1L8.5 8.5l.94-2.06 2.06-.94-2.06-.94L8.5 2.5l-.94 2.06-2.06.94zm10 10l.94 2.06.94-2.06 2.06-.94-2.06-.94-.94-2.06-.94 2.06-2.06.94z\"/><path d=\"M17.41 7.96l-1.37-1.37c-.4-.4-.92-.59-1.43-.59-.52 0-1.04.2-1.43.59L10.3 9.45l-7.72 7.72c-.78.78-.78 2.05 0 2.83L4 21.41c.39.39.9.59 1.41.59.51 0 1.02-.2 1.41-.59l7.78-7.78 2.81-2.81c.8-.78.8-2.07 0-2.86zM5.41 20L4 18.59l7.72-7.72 1.47 1.35L5.41 20z\"/>\n",
              "  </svg>\n",
              "      </button>\n",
              "      \n",
              "  <style>\n",
              "    .colab-df-container {\n",
              "      display:flex;\n",
              "      flex-wrap:wrap;\n",
              "      gap: 12px;\n",
              "    }\n",
              "\n",
              "    .colab-df-convert {\n",
              "      background-color: #E8F0FE;\n",
              "      border: none;\n",
              "      border-radius: 50%;\n",
              "      cursor: pointer;\n",
              "      display: none;\n",
              "      fill: #1967D2;\n",
              "      height: 32px;\n",
              "      padding: 0 0 0 0;\n",
              "      width: 32px;\n",
              "    }\n",
              "\n",
              "    .colab-df-convert:hover {\n",
              "      background-color: #E2EBFA;\n",
              "      box-shadow: 0px 1px 2px rgba(60, 64, 67, 0.3), 0px 1px 3px 1px rgba(60, 64, 67, 0.15);\n",
              "      fill: #174EA6;\n",
              "    }\n",
              "\n",
              "    [theme=dark] .colab-df-convert {\n",
              "      background-color: #3B4455;\n",
              "      fill: #D2E3FC;\n",
              "    }\n",
              "\n",
              "    [theme=dark] .colab-df-convert:hover {\n",
              "      background-color: #434B5C;\n",
              "      box-shadow: 0px 1px 3px 1px rgba(0, 0, 0, 0.15);\n",
              "      filter: drop-shadow(0px 1px 2px rgba(0, 0, 0, 0.3));\n",
              "      fill: #FFFFFF;\n",
              "    }\n",
              "  </style>\n",
              "\n",
              "      <script>\n",
              "        const buttonEl =\n",
              "          document.querySelector('#df-16eb90fc-fb33-473c-bec7-c485e48686fd button.colab-df-convert');\n",
              "        buttonEl.style.display =\n",
              "          google.colab.kernel.accessAllowed ? 'block' : 'none';\n",
              "\n",
              "        async function convertToInteractive(key) {\n",
              "          const element = document.querySelector('#df-16eb90fc-fb33-473c-bec7-c485e48686fd');\n",
              "          const dataTable =\n",
              "            await google.colab.kernel.invokeFunction('convertToInteractive',\n",
              "                                                     [key], {});\n",
              "          if (!dataTable) return;\n",
              "\n",
              "          const docLinkHtml = 'Like what you see? Visit the ' +\n",
              "            '<a target=\"_blank\" href=https://colab.research.google.com/notebooks/data_table.ipynb>data table notebook</a>'\n",
              "            + ' to learn more about interactive tables.';\n",
              "          element.innerHTML = '';\n",
              "          dataTable['output_type'] = 'display_data';\n",
              "          await google.colab.output.renderOutput(dataTable, element);\n",
              "          const docLink = document.createElement('div');\n",
              "          docLink.innerHTML = docLinkHtml;\n",
              "          element.appendChild(docLink);\n",
              "        }\n",
              "      </script>\n",
              "    </div>\n",
              "  </div>\n",
              "  "
            ],
            "text/plain": [
              "               age          bmi     children       charges\n",
              "count  1338.000000  1338.000000  1338.000000   1338.000000\n",
              "mean     39.207025    30.663397     1.094918  13270.422265\n",
              "std      14.049960     6.098187     1.205493  12110.011237\n",
              "min      18.000000    15.960000     0.000000   1121.873900\n",
              "25%      27.000000    26.296250     0.000000   4740.287150\n",
              "50%      39.000000    30.400000     1.000000   9382.033000\n",
              "75%      51.000000    34.693750     2.000000  16639.912515\n",
              "max      64.000000    53.130000     5.000000  63770.428010"
            ]
          },
          "metadata": {},
          "execution_count": 49
        }
      ]
    },
    {
      "cell_type": "code",
      "source": [
        "df.info()"
      ],
      "metadata": {
        "colab": {
          "base_uri": "https://localhost:8080/"
        },
        "id": "J5ItsjNVvYH_",
        "outputId": "917c382a-b4a3-4ed2-cb06-745a8ddd15d0"
      },
      "execution_count": null,
      "outputs": [
        {
          "output_type": "stream",
          "name": "stdout",
          "text": [
            "<class 'pandas.core.frame.DataFrame'>\n",
            "RangeIndex: 1338 entries, 0 to 1337\n",
            "Data columns (total 7 columns):\n",
            " #   Column    Non-Null Count  Dtype  \n",
            "---  ------    --------------  -----  \n",
            " 0   age       1338 non-null   int64  \n",
            " 1   sex       1338 non-null   object \n",
            " 2   bmi       1338 non-null   float64\n",
            " 3   children  1338 non-null   int64  \n",
            " 4   smoker    1338 non-null   object \n",
            " 5   region    1338 non-null   object \n",
            " 6   charges   1338 non-null   float64\n",
            "dtypes: float64(2), int64(2), object(3)\n",
            "memory usage: 73.3+ KB\n"
          ]
        }
      ]
    },
    {
      "cell_type": "code",
      "source": [
        "df2=df[['age', 'sex', 'bmi', 'children', 'smoker', 'region']]"
      ],
      "metadata": {
        "id": "opxBnO4hvaUA"
      },
      "execution_count": null,
      "outputs": []
    },
    {
      "cell_type": "code",
      "source": [
        "df2.head()"
      ],
      "metadata": {
        "colab": {
          "base_uri": "https://localhost:8080/",
          "height": 206
        },
        "id": "r0VgUGz4v09t",
        "outputId": "d4d236ac-96d4-4b8b-d298-2029b5d4c94d"
      },
      "execution_count": null,
      "outputs": [
        {
          "output_type": "execute_result",
          "data": {
            "text/html": [
              "\n",
              "  <div id=\"df-f8cab8c7-f0b4-4f48-8852-5be0062fcefb\">\n",
              "    <div class=\"colab-df-container\">\n",
              "      <div>\n",
              "<style scoped>\n",
              "    .dataframe tbody tr th:only-of-type {\n",
              "        vertical-align: middle;\n",
              "    }\n",
              "\n",
              "    .dataframe tbody tr th {\n",
              "        vertical-align: top;\n",
              "    }\n",
              "\n",
              "    .dataframe thead th {\n",
              "        text-align: right;\n",
              "    }\n",
              "</style>\n",
              "<table border=\"1\" class=\"dataframe\">\n",
              "  <thead>\n",
              "    <tr style=\"text-align: right;\">\n",
              "      <th></th>\n",
              "      <th>age</th>\n",
              "      <th>sex</th>\n",
              "      <th>bmi</th>\n",
              "      <th>children</th>\n",
              "      <th>smoker</th>\n",
              "      <th>region</th>\n",
              "    </tr>\n",
              "  </thead>\n",
              "  <tbody>\n",
              "    <tr>\n",
              "      <th>0</th>\n",
              "      <td>19</td>\n",
              "      <td>female</td>\n",
              "      <td>27.900</td>\n",
              "      <td>0</td>\n",
              "      <td>yes</td>\n",
              "      <td>southwest</td>\n",
              "    </tr>\n",
              "    <tr>\n",
              "      <th>1</th>\n",
              "      <td>18</td>\n",
              "      <td>male</td>\n",
              "      <td>33.770</td>\n",
              "      <td>1</td>\n",
              "      <td>no</td>\n",
              "      <td>southeast</td>\n",
              "    </tr>\n",
              "    <tr>\n",
              "      <th>2</th>\n",
              "      <td>28</td>\n",
              "      <td>male</td>\n",
              "      <td>33.000</td>\n",
              "      <td>3</td>\n",
              "      <td>no</td>\n",
              "      <td>southeast</td>\n",
              "    </tr>\n",
              "    <tr>\n",
              "      <th>3</th>\n",
              "      <td>33</td>\n",
              "      <td>male</td>\n",
              "      <td>22.705</td>\n",
              "      <td>0</td>\n",
              "      <td>no</td>\n",
              "      <td>northwest</td>\n",
              "    </tr>\n",
              "    <tr>\n",
              "      <th>4</th>\n",
              "      <td>32</td>\n",
              "      <td>male</td>\n",
              "      <td>28.880</td>\n",
              "      <td>0</td>\n",
              "      <td>no</td>\n",
              "      <td>northwest</td>\n",
              "    </tr>\n",
              "  </tbody>\n",
              "</table>\n",
              "</div>\n",
              "      <button class=\"colab-df-convert\" onclick=\"convertToInteractive('df-f8cab8c7-f0b4-4f48-8852-5be0062fcefb')\"\n",
              "              title=\"Convert this dataframe to an interactive table.\"\n",
              "              style=\"display:none;\">\n",
              "        \n",
              "  <svg xmlns=\"http://www.w3.org/2000/svg\" height=\"24px\"viewBox=\"0 0 24 24\"\n",
              "       width=\"24px\">\n",
              "    <path d=\"M0 0h24v24H0V0z\" fill=\"none\"/>\n",
              "    <path d=\"M18.56 5.44l.94 2.06.94-2.06 2.06-.94-2.06-.94-.94-2.06-.94 2.06-2.06.94zm-11 1L8.5 8.5l.94-2.06 2.06-.94-2.06-.94L8.5 2.5l-.94 2.06-2.06.94zm10 10l.94 2.06.94-2.06 2.06-.94-2.06-.94-.94-2.06-.94 2.06-2.06.94z\"/><path d=\"M17.41 7.96l-1.37-1.37c-.4-.4-.92-.59-1.43-.59-.52 0-1.04.2-1.43.59L10.3 9.45l-7.72 7.72c-.78.78-.78 2.05 0 2.83L4 21.41c.39.39.9.59 1.41.59.51 0 1.02-.2 1.41-.59l7.78-7.78 2.81-2.81c.8-.78.8-2.07 0-2.86zM5.41 20L4 18.59l7.72-7.72 1.47 1.35L5.41 20z\"/>\n",
              "  </svg>\n",
              "      </button>\n",
              "      \n",
              "  <style>\n",
              "    .colab-df-container {\n",
              "      display:flex;\n",
              "      flex-wrap:wrap;\n",
              "      gap: 12px;\n",
              "    }\n",
              "\n",
              "    .colab-df-convert {\n",
              "      background-color: #E8F0FE;\n",
              "      border: none;\n",
              "      border-radius: 50%;\n",
              "      cursor: pointer;\n",
              "      display: none;\n",
              "      fill: #1967D2;\n",
              "      height: 32px;\n",
              "      padding: 0 0 0 0;\n",
              "      width: 32px;\n",
              "    }\n",
              "\n",
              "    .colab-df-convert:hover {\n",
              "      background-color: #E2EBFA;\n",
              "      box-shadow: 0px 1px 2px rgba(60, 64, 67, 0.3), 0px 1px 3px 1px rgba(60, 64, 67, 0.15);\n",
              "      fill: #174EA6;\n",
              "    }\n",
              "\n",
              "    [theme=dark] .colab-df-convert {\n",
              "      background-color: #3B4455;\n",
              "      fill: #D2E3FC;\n",
              "    }\n",
              "\n",
              "    [theme=dark] .colab-df-convert:hover {\n",
              "      background-color: #434B5C;\n",
              "      box-shadow: 0px 1px 3px 1px rgba(0, 0, 0, 0.15);\n",
              "      filter: drop-shadow(0px 1px 2px rgba(0, 0, 0, 0.3));\n",
              "      fill: #FFFFFF;\n",
              "    }\n",
              "  </style>\n",
              "\n",
              "      <script>\n",
              "        const buttonEl =\n",
              "          document.querySelector('#df-f8cab8c7-f0b4-4f48-8852-5be0062fcefb button.colab-df-convert');\n",
              "        buttonEl.style.display =\n",
              "          google.colab.kernel.accessAllowed ? 'block' : 'none';\n",
              "\n",
              "        async function convertToInteractive(key) {\n",
              "          const element = document.querySelector('#df-f8cab8c7-f0b4-4f48-8852-5be0062fcefb');\n",
              "          const dataTable =\n",
              "            await google.colab.kernel.invokeFunction('convertToInteractive',\n",
              "                                                     [key], {});\n",
              "          if (!dataTable) return;\n",
              "\n",
              "          const docLinkHtml = 'Like what you see? Visit the ' +\n",
              "            '<a target=\"_blank\" href=https://colab.research.google.com/notebooks/data_table.ipynb>data table notebook</a>'\n",
              "            + ' to learn more about interactive tables.';\n",
              "          element.innerHTML = '';\n",
              "          dataTable['output_type'] = 'display_data';\n",
              "          await google.colab.output.renderOutput(dataTable, element);\n",
              "          const docLink = document.createElement('div');\n",
              "          docLink.innerHTML = docLinkHtml;\n",
              "          element.appendChild(docLink);\n",
              "        }\n",
              "      </script>\n",
              "    </div>\n",
              "  </div>\n",
              "  "
            ],
            "text/plain": [
              "   age     sex     bmi  children smoker     region\n",
              "0   19  female  27.900         0    yes  southwest\n",
              "1   18    male  33.770         1     no  southeast\n",
              "2   28    male  33.000         3     no  southeast\n",
              "3   33    male  22.705         0     no  northwest\n",
              "4   32    male  28.880         0     no  northwest"
            ]
          },
          "metadata": {},
          "execution_count": 52
        }
      ]
    },
    {
      "cell_type": "code",
      "source": [
        "#Visualize the data using Matplotlib \n",
        "df2.hist()"
      ],
      "metadata": {
        "colab": {
          "base_uri": "https://localhost:8080/",
          "height": 368
        },
        "id": "HRHEvsQDv15y",
        "outputId": "a6547db3-eb07-4e07-e5bb-34c622d437b9"
      },
      "execution_count": null,
      "outputs": [
        {
          "output_type": "execute_result",
          "data": {
            "text/plain": [
              "array([[<matplotlib.axes._subplots.AxesSubplot object at 0x7efd77a4ee50>,\n",
              "        <matplotlib.axes._subplots.AxesSubplot object at 0x7efd797dbc50>],\n",
              "       [<matplotlib.axes._subplots.AxesSubplot object at 0x7efd77375590>,\n",
              "        <matplotlib.axes._subplots.AxesSubplot object at 0x7efd7732ab90>]],\n",
              "      dtype=object)"
            ]
          },
          "metadata": {},
          "execution_count": 53
        },
        {
          "output_type": "display_data",
          "data": {
            "image/png": "[encoded data removed]",
            "text/plain": [
              "<Figure size 432x288 with 4 Axes>"
            ]
          },
          "metadata": {
            "needs_background": "light"
          }
        }
      ]
    },
    {
      "cell_type": "code",
      "source": [
        "#Find the Correlation Between Different Parameters\n",
        "df[\"age\"].corr(df[\"charges\"])"
      ],
      "metadata": {
        "colab": {
          "base_uri": "https://localhost:8080/"
        },
        "id": "tLGe3KB6v45P",
        "outputId": "17aaf1fe-7c87-46a9-8aea-56b4f3332dfc"
      },
      "execution_count": null,
      "outputs": [
        {
          "output_type": "execute_result",
          "data": {
            "text/plain": [
              "0.29900819333064754"
            ]
          },
          "metadata": {},
          "execution_count": 54
        }
      ]
    },
    {
      "cell_type": "code",
      "source": [
        "df[\"bmi\"].corr(df[\"charges\"])"
      ],
      "metadata": {
        "colab": {
          "base_uri": "https://localhost:8080/"
        },
        "id": "dWwcxVrJwKlY",
        "outputId": "e918c868-14be-4c17-9ba6-5716e2aa9e75"
      },
      "execution_count": null,
      "outputs": [
        {
          "output_type": "execute_result",
          "data": {
            "text/plain": [
              "0.19834096883362895"
            ]
          },
          "metadata": {},
          "execution_count": 55
        }
      ]
    },
    {
      "cell_type": "code",
      "source": [
        "df[\"children\"].corr(df[\"charges\"])"
      ],
      "metadata": {
        "colab": {
          "base_uri": "https://localhost:8080/"
        },
        "id": "ocZLLlyBwasH",
        "outputId": "7dcb7e62-75a6-4a98-e692-38fd289fd75a"
      },
      "execution_count": null,
      "outputs": [
        {
          "output_type": "execute_result",
          "data": {
            "text/plain": [
              "0.0679982268479048"
            ]
          },
          "metadata": {},
          "execution_count": 56
        }
      ]
    },
    {
      "cell_type": "code",
      "source": [
        "#Create Training and Testing Data\n",
        "msk=np.random.rand(len(df)) < 0.8\n",
        "train=df2[msk]\n",
        "test=df2[~msk]"
      ],
      "metadata": {
        "id": "-iUR8b9Jwpok"
      },
      "execution_count": null,
      "outputs": []
    },
    {
      "cell_type": "code",
      "source": [
        "train.head()"
      ],
      "metadata": {
        "colab": {
          "base_uri": "https://localhost:8080/",
          "height": 206
        },
        "id": "XmUJgzKmxIrQ",
        "outputId": "a6d7f96e-a00b-433c-ce8c-5e909ea1df98"
      },
      "execution_count": null,
      "outputs": [
        {
          "output_type": "execute_result",
          "data": {
            "text/html": [
              "\n",
              "  <div id=\"df-3e2e2dab-8e45-4fc2-931e-603ef5f05fca\">\n",
              "    <div class=\"colab-df-container\">\n",
              "      <div>\n",
              "<style scoped>\n",
              "    .dataframe tbody tr th:only-of-type {\n",
              "        vertical-align: middle;\n",
              "    }\n",
              "\n",
              "    .dataframe tbody tr th {\n",
              "        vertical-align: top;\n",
              "    }\n",
              "\n",
              "    .dataframe thead th {\n",
              "        text-align: right;\n",
              "    }\n",
              "</style>\n",
              "<table border=\"1\" class=\"dataframe\">\n",
              "  <thead>\n",
              "    <tr style=\"text-align: right;\">\n",
              "      <th></th>\n",
              "      <th>age</th>\n",
              "      <th>sex</th>\n",
              "      <th>bmi</th>\n",
              "      <th>children</th>\n",
              "      <th>smoker</th>\n",
              "      <th>region</th>\n",
              "    </tr>\n",
              "  </thead>\n",
              "  <tbody>\n",
              "    <tr>\n",
              "      <th>0</th>\n",
              "      <td>19</td>\n",
              "      <td>female</td>\n",
              "      <td>27.90</td>\n",
              "      <td>0</td>\n",
              "      <td>yes</td>\n",
              "      <td>southwest</td>\n",
              "    </tr>\n",
              "    <tr>\n",
              "      <th>4</th>\n",
              "      <td>32</td>\n",
              "      <td>male</td>\n",
              "      <td>28.88</td>\n",
              "      <td>0</td>\n",
              "      <td>no</td>\n",
              "      <td>northwest</td>\n",
              "    </tr>\n",
              "    <tr>\n",
              "      <th>5</th>\n",
              "      <td>31</td>\n",
              "      <td>female</td>\n",
              "      <td>25.74</td>\n",
              "      <td>0</td>\n",
              "      <td>no</td>\n",
              "      <td>southeast</td>\n",
              "    </tr>\n",
              "    <tr>\n",
              "      <th>6</th>\n",
              "      <td>46</td>\n",
              "      <td>female</td>\n",
              "      <td>33.44</td>\n",
              "      <td>1</td>\n",
              "      <td>no</td>\n",
              "      <td>southeast</td>\n",
              "    </tr>\n",
              "    <tr>\n",
              "      <th>7</th>\n",
              "      <td>37</td>\n",
              "      <td>female</td>\n",
              "      <td>27.74</td>\n",
              "      <td>3</td>\n",
              "      <td>no</td>\n",
              "      <td>northwest</td>\n",
              "    </tr>\n",
              "  </tbody>\n",
              "</table>\n",
              "</div>\n",
              "      <button class=\"colab-df-convert\" onclick=\"convertToInteractive('df-3e2e2dab-8e45-4fc2-931e-603ef5f05fca')\"\n",
              "              title=\"Convert this dataframe to an interactive table.\"\n",
              "              style=\"display:none;\">\n",
              "        \n",
              "  <svg xmlns=\"http://www.w3.org/2000/svg\" height=\"24px\"viewBox=\"0 0 24 24\"\n",
              "       width=\"24px\">\n",
              "    <path d=\"M0 0h24v24H0V0z\" fill=\"none\"/>\n",
              "    <path d=\"M18.56 5.44l.94 2.06.94-2.06 2.06-.94-2.06-.94-.94-2.06-.94 2.06-2.06.94zm-11 1L8.5 8.5l.94-2.06 2.06-.94-2.06-.94L8.5 2.5l-.94 2.06-2.06.94zm10 10l.94 2.06.94-2.06 2.06-.94-2.06-.94-.94-2.06-.94 2.06-2.06.94z\"/><path d=\"M17.41 7.96l-1.37-1.37c-.4-.4-.92-.59-1.43-.59-.52 0-1.04.2-1.43.59L10.3 9.45l-7.72 7.72c-.78.78-.78 2.05 0 2.83L4 21.41c.39.39.9.59 1.41.59.51 0 1.02-.2 1.41-.59l7.78-7.78 2.81-2.81c.8-.78.8-2.07 0-2.86zM5.41 20L4 18.59l7.72-7.72 1.47 1.35L5.41 20z\"/>\n",
              "  </svg>\n",
              "      </button>\n",
              "      \n",
              "  <style>\n",
              "    .colab-df-container {\n",
              "      display:flex;\n",
              "      flex-wrap:wrap;\n",
              "      gap: 12px;\n",
              "    }\n",
              "\n",
              "    .colab-df-convert {\n",
              "      background-color: #E8F0FE;\n",
              "      border: none;\n",
              "      border-radius: 50%;\n",
              "      cursor: pointer;\n",
              "      display: none;\n",
              "      fill: #1967D2;\n",
              "      height: 32px;\n",
              "      padding: 0 0 0 0;\n",
              "      width: 32px;\n",
              "    }\n",
              "\n",
              "    .colab-df-convert:hover {\n",
              "      background-color: #E2EBFA;\n",
              "      box-shadow: 0px 1px 2px rgba(60, 64, 67, 0.3), 0px 1px 3px 1px rgba(60, 64, 67, 0.15);\n",
              "      fill: #174EA6;\n",
              "    }\n",
              "\n",
              "    [theme=dark] .colab-df-convert {\n",
              "      background-color: #3B4455;\n",
              "      fill: #D2E3FC;\n",
              "    }\n",
              "\n",
              "    [theme=dark] .colab-df-convert:hover {\n",
              "      background-color: #434B5C;\n",
              "      box-shadow: 0px 1px 3px 1px rgba(0, 0, 0, 0.15);\n",
              "      filter: drop-shadow(0px 1px 2px rgba(0, 0, 0, 0.3));\n",
              "      fill: #FFFFFF;\n",
              "    }\n",
              "  </style>\n",
              "\n",
              "      <script>\n",
              "        const buttonEl =\n",
              "          document.querySelector('#df-3e2e2dab-8e45-4fc2-931e-603ef5f05fca button.colab-df-convert');\n",
              "        buttonEl.style.display =\n",
              "          google.colab.kernel.accessAllowed ? 'block' : 'none';\n",
              "\n",
              "        async function convertToInteractive(key) {\n",
              "          const element = document.querySelector('#df-3e2e2dab-8e45-4fc2-931e-603ef5f05fca');\n",
              "          const dataTable =\n",
              "            await google.colab.kernel.invokeFunction('convertToInteractive',\n",
              "                                                     [key], {});\n",
              "          if (!dataTable) return;\n",
              "\n",
              "          const docLinkHtml = 'Like what you see? Visit the ' +\n",
              "            '<a target=\"_blank\" href=https://colab.research.google.com/notebooks/data_table.ipynb>data table notebook</a>'\n",
              "            + ' to learn more about interactive tables.';\n",
              "          element.innerHTML = '';\n",
              "          dataTable['output_type'] = 'display_data';\n",
              "          await google.colab.output.renderOutput(dataTable, element);\n",
              "          const docLink = document.createElement('div');\n",
              "          docLink.innerHTML = docLinkHtml;\n",
              "          element.appendChild(docLink);\n",
              "        }\n",
              "      </script>\n",
              "    </div>\n",
              "  </div>\n",
              "  "
            ],
            "text/plain": [
              "   age     sex    bmi  children smoker     region\n",
              "0   19  female  27.90         0    yes  southwest\n",
              "4   32    male  28.88         0     no  northwest\n",
              "5   31  female  25.74         0     no  southeast\n",
              "6   46  female  33.44         1     no  southeast\n",
              "7   37  female  27.74         3     no  northwest"
            ]
          },
          "metadata": {},
          "execution_count": 59
        }
      ]
    },
    {
      "cell_type": "code",
      "source": [
        "test.head()"
      ],
      "metadata": {
        "colab": {
          "base_uri": "https://localhost:8080/",
          "height": 206
        },
        "id": "TUcmZvZGxXTt",
        "outputId": "6a36c70c-e551-4c87-fd49-d027dfa0c244"
      },
      "execution_count": null,
      "outputs": [
        {
          "output_type": "execute_result",
          "data": {
            "text/html": [
              "\n",
              "  <div id=\"df-8b17510f-f6fe-4b66-9f68-8870c514cd27\">\n",
              "    <div class=\"colab-df-container\">\n",
              "      <div>\n",
              "<style scoped>\n",
              "    .dataframe tbody tr th:only-of-type {\n",
              "        vertical-align: middle;\n",
              "    }\n",
              "\n",
              "    .dataframe tbody tr th {\n",
              "        vertical-align: top;\n",
              "    }\n",
              "\n",
              "    .dataframe thead th {\n",
              "        text-align: right;\n",
              "    }\n",
              "</style>\n",
              "<table border=\"1\" class=\"dataframe\">\n",
              "  <thead>\n",
              "    <tr style=\"text-align: right;\">\n",
              "      <th></th>\n",
              "      <th>age</th>\n",
              "      <th>sex</th>\n",
              "      <th>bmi</th>\n",
              "      <th>children</th>\n",
              "      <th>smoker</th>\n",
              "      <th>region</th>\n",
              "    </tr>\n",
              "  </thead>\n",
              "  <tbody>\n",
              "    <tr>\n",
              "      <th>1</th>\n",
              "      <td>18</td>\n",
              "      <td>male</td>\n",
              "      <td>33.770</td>\n",
              "      <td>1</td>\n",
              "      <td>no</td>\n",
              "      <td>southeast</td>\n",
              "    </tr>\n",
              "    <tr>\n",
              "      <th>2</th>\n",
              "      <td>28</td>\n",
              "      <td>male</td>\n",
              "      <td>33.000</td>\n",
              "      <td>3</td>\n",
              "      <td>no</td>\n",
              "      <td>southeast</td>\n",
              "    </tr>\n",
              "    <tr>\n",
              "      <th>3</th>\n",
              "      <td>33</td>\n",
              "      <td>male</td>\n",
              "      <td>22.705</td>\n",
              "      <td>0</td>\n",
              "      <td>no</td>\n",
              "      <td>northwest</td>\n",
              "    </tr>\n",
              "    <tr>\n",
              "      <th>12</th>\n",
              "      <td>23</td>\n",
              "      <td>male</td>\n",
              "      <td>34.400</td>\n",
              "      <td>0</td>\n",
              "      <td>no</td>\n",
              "      <td>southwest</td>\n",
              "    </tr>\n",
              "    <tr>\n",
              "      <th>15</th>\n",
              "      <td>19</td>\n",
              "      <td>male</td>\n",
              "      <td>24.600</td>\n",
              "      <td>1</td>\n",
              "      <td>no</td>\n",
              "      <td>southwest</td>\n",
              "    </tr>\n",
              "  </tbody>\n",
              "</table>\n",
              "</div>\n",
              "      <button class=\"colab-df-convert\" onclick=\"convertToInteractive('df-8b17510f-f6fe-4b66-9f68-8870c514cd27')\"\n",
              "              title=\"Convert this dataframe to an interactive table.\"\n",
              "              style=\"display:none;\">\n",
              "        \n",
              "  <svg xmlns=\"http://www.w3.org/2000/svg\" height=\"24px\"viewBox=\"0 0 24 24\"\n",
              "       width=\"24px\">\n",
              "    <path d=\"M0 0h24v24H0V0z\" fill=\"none\"/>\n",
              "    <path d=\"M18.56 5.44l.94 2.06.94-2.06 2.06-.94-2.06-.94-.94-2.06-.94 2.06-2.06.94zm-11 1L8.5 8.5l.94-2.06 2.06-.94-2.06-.94L8.5 2.5l-.94 2.06-2.06.94zm10 10l.94 2.06.94-2.06 2.06-.94-2.06-.94-.94-2.06-.94 2.06-2.06.94z\"/><path d=\"M17.41 7.96l-1.37-1.37c-.4-.4-.92-.59-1.43-.59-.52 0-1.04.2-1.43.59L10.3 9.45l-7.72 7.72c-.78.78-.78 2.05 0 2.83L4 21.41c.39.39.9.59 1.41.59.51 0 1.02-.2 1.41-.59l7.78-7.78 2.81-2.81c.8-.78.8-2.07 0-2.86zM5.41 20L4 18.59l7.72-7.72 1.47 1.35L5.41 20z\"/>\n",
              "  </svg>\n",
              "      </button>\n",
              "      \n",
              "  <style>\n",
              "    .colab-df-container {\n",
              "      display:flex;\n",
              "      flex-wrap:wrap;\n",
              "      gap: 12px;\n",
              "    }\n",
              "\n",
              "    .colab-df-convert {\n",
              "      background-color: #E8F0FE;\n",
              "      border: none;\n",
              "      border-radius: 50%;\n",
              "      cursor: pointer;\n",
              "      display: none;\n",
              "      fill: #1967D2;\n",
              "      height: 32px;\n",
              "      padding: 0 0 0 0;\n",
              "      width: 32px;\n",
              "    }\n",
              "\n",
              "    .colab-df-convert:hover {\n",
              "      background-color: #E2EBFA;\n",
              "      box-shadow: 0px 1px 2px rgba(60, 64, 67, 0.3), 0px 1px 3px 1px rgba(60, 64, 67, 0.15);\n",
              "      fill: #174EA6;\n",
              "    }\n",
              "\n",
              "    [theme=dark] .colab-df-convert {\n",
              "      background-color: #3B4455;\n",
              "      fill: #D2E3FC;\n",
              "    }\n",
              "\n",
              "    [theme=dark] .colab-df-convert:hover {\n",
              "      background-color: #434B5C;\n",
              "      box-shadow: 0px 1px 3px 1px rgba(0, 0, 0, 0.15);\n",
              "      filter: drop-shadow(0px 1px 2px rgba(0, 0, 0, 0.3));\n",
              "      fill: #FFFFFF;\n",
              "    }\n",
              "  </style>\n",
              "\n",
              "      <script>\n",
              "        const buttonEl =\n",
              "          document.querySelector('#df-8b17510f-f6fe-4b66-9f68-8870c514cd27 button.colab-df-convert');\n",
              "        buttonEl.style.display =\n",
              "          google.colab.kernel.accessAllowed ? 'block' : 'none';\n",
              "\n",
              "        async function convertToInteractive(key) {\n",
              "          const element = document.querySelector('#df-8b17510f-f6fe-4b66-9f68-8870c514cd27');\n",
              "          const dataTable =\n",
              "            await google.colab.kernel.invokeFunction('convertToInteractive',\n",
              "                                                     [key], {});\n",
              "          if (!dataTable) return;\n",
              "\n",
              "          const docLinkHtml = 'Like what you see? Visit the ' +\n",
              "            '<a target=\"_blank\" href=https://colab.research.google.com/notebooks/data_table.ipynb>data table notebook</a>'\n",
              "            + ' to learn more about interactive tables.';\n",
              "          element.innerHTML = '';\n",
              "          dataTable['output_type'] = 'display_data';\n",
              "          await google.colab.output.renderOutput(dataTable, element);\n",
              "          const docLink = document.createElement('div');\n",
              "          docLink.innerHTML = docLinkHtml;\n",
              "          element.appendChild(docLink);\n",
              "        }\n",
              "      </script>\n",
              "    </div>\n",
              "  </div>\n",
              "  "
            ],
            "text/plain": [
              "    age   sex     bmi  children smoker     region\n",
              "1    18  male  33.770         1     no  southeast\n",
              "2    28  male  33.000         3     no  southeast\n",
              "3    33  male  22.705         0     no  northwest\n",
              "12   23  male  34.400         0     no  southwest\n",
              "15   19  male  24.600         1     no  southwest"
            ]
          },
          "metadata": {},
          "execution_count": 60
        }
      ]
    },
    {
      "cell_type": "code",
      "source": [
        "train.shape"
      ],
      "metadata": {
        "colab": {
          "base_uri": "https://localhost:8080/"
        },
        "id": "MqJpY8c0xaWM",
        "outputId": "d50df757-c92d-478d-a909-d0587aeae7ef"
      },
      "execution_count": null,
      "outputs": [
        {
          "output_type": "execute_result",
          "data": {
            "text/plain": [
              "(1051, 6)"
            ]
          },
          "metadata": {},
          "execution_count": 61
        }
      ]
    },
    {
      "cell_type": "code",
      "source": [
        "test.shape"
      ],
      "metadata": {
        "colab": {
          "base_uri": "https://localhost:8080/"
        },
        "id": "ueVtOtT1xbUB",
        "outputId": "002983a8-a52f-4f26-be49-f6fe66a05db2"
      },
      "execution_count": null,
      "outputs": [
        {
          "output_type": "execute_result",
          "data": {
            "text/plain": [
              "(287, 6)"
            ]
          },
          "metadata": {},
          "execution_count": 62
        }
      ]
    },
    {
      "cell_type": "code",
      "source": [
        "#Train the model Using Linear Regression model\n",
        "from sklearn import linear_model"
      ],
      "metadata": {
        "id": "w2xQa2zDxcLR"
      },
      "execution_count": null,
      "outputs": []
    },
    {
      "cell_type": "code",
      "source": [
        "clf=linear_model.LinearRegression()"
      ],
      "metadata": {
        "id": "HwvS9aDlxtAc"
      },
      "execution_count": null,
      "outputs": []
    },
    {
      "cell_type": "code",
      "source": [
        "clf"
      ],
      "metadata": {
        "colab": {
          "base_uri": "https://localhost:8080/"
        },
        "id": "cg9djcm7xz48",
        "outputId": "0ff54aa1-2382-485a-8570-3b4773847865"
      },
      "execution_count": null,
      "outputs": [
        {
          "output_type": "execute_result",
          "data": {
            "text/plain": [
              "LinearRegression()"
            ]
          },
          "metadata": {},
          "execution_count": 65
        }
      ]
    },
    {
      "cell_type": "code",
      "source": [
        "x_train= np.asanyarray(train[[\"age\"]])"
      ],
      "metadata": {
        "id": "Dzysko-Sx1Hv"
      },
      "execution_count": null,
      "outputs": []
    },
    {
      "cell_type": "code",
      "source": [
        "y_train= np.asanyarray(train[[\"bmi\"]])"
      ],
      "metadata": {
        "id": "wRUGklTdyGyK"
      },
      "execution_count": null,
      "outputs": []
    },
    {
      "cell_type": "code",
      "source": [
        "x_test= np.asanyarray(test[[\"age\"]])"
      ],
      "metadata": {
        "id": "QM-pKkcJydaE"
      },
      "execution_count": null,
      "outputs": []
    },
    {
      "cell_type": "code",
      "source": [
        "y_test= np.asanyarray(test[[\"bmi\"]])"
      ],
      "metadata": {
        "id": "yo30DQ-1yqsd"
      },
      "execution_count": null,
      "outputs": []
    },
    {
      "cell_type": "code",
      "source": [
        "clf.fit(x_train,y_train)"
      ],
      "metadata": {
        "colab": {
          "base_uri": "https://localhost:8080/"
        },
        "id": "PrLrWoXJyvMF",
        "outputId": "e62f1fbb-40bd-40c8-b233-927192ab757d"
      },
      "execution_count": null,
      "outputs": [
        {
          "output_type": "execute_result",
          "data": {
            "text/plain": [
              "LinearRegression()"
            ]
          },
          "metadata": {},
          "execution_count": 71
        }
      ]
    },
    {
      "cell_type": "code",
      "source": [
        "#Print intercept and Coefficient\n",
        "c=clf.intercept_\n"
      ],
      "metadata": {
        "id": "6W7C7NkEyzsv"
      },
      "execution_count": null,
      "outputs": []
    },
    {
      "cell_type": "code",
      "source": [
        "m=clf.coef_"
      ],
      "metadata": {
        "id": "gVC9iAFazACN"
      },
      "execution_count": null,
      "outputs": []
    },
    {
      "cell_type": "code",
      "source": [
        "c"
      ],
      "metadata": {
        "colab": {
          "base_uri": "https://localhost:8080/"
        },
        "id": "PaPAs37RzC_-",
        "outputId": "1739d641-1c76-4738-ba01-8b71e02132b3"
      },
      "execution_count": null,
      "outputs": [
        {
          "output_type": "execute_result",
          "data": {
            "text/plain": [
              "array([29.1542534])"
            ]
          },
          "metadata": {},
          "execution_count": 74
        }
      ]
    },
    {
      "cell_type": "code",
      "source": [
        "m"
      ],
      "metadata": {
        "colab": {
          "base_uri": "https://localhost:8080/"
        },
        "id": "eeVoFIH6zEHw",
        "outputId": "551fe32e-c43e-483d-abf4-fcc894979b4a"
      },
      "execution_count": null,
      "outputs": [
        {
          "output_type": "execute_result",
          "data": {
            "text/plain": [
              "array([[0.0413585]])"
            ]
          },
          "metadata": {},
          "execution_count": 75
        }
      ]
    },
    {
      "cell_type": "code",
      "source": [
        "#Predict the values from testing data \n",
        "clf.predict(x_test)"
      ],
      "metadata": {
        "colab": {
          "base_uri": "https://localhost:8080/"
        },
        "id": "IUXH80q4zE-r",
        "outputId": "97e2a34c-8624-42b1-adcb-8ebd2d42e554"
      },
      "execution_count": null,
      "outputs": [
        {
          "output_type": "execute_result",
          "data": {
            "text/plain": [
              "array([[29.89870634],\n",
              "       [30.3122913 ],\n",
              "       [30.51908378],\n",
              "       [30.10549882],\n",
              "       [29.94006483],\n",
              "       [30.56044228],\n",
              "       [31.75983867],\n",
              "       [30.10549882],\n",
              "       [31.75983867],\n",
              "       [30.3122913 ],\n",
              "       [31.71848018],\n",
              "       [30.3122913 ],\n",
              "       [31.63576319],\n",
              "       [30.64315927],\n",
              "       [29.98142333],\n",
              "       [30.80859326],\n",
              "       [30.27093281],\n",
              "       [30.06414032],\n",
              "       [31.01538574],\n",
              "       [31.4703292 ],\n",
              "       [31.59440469],\n",
              "       [31.80119717],\n",
              "       [31.4703292 ],\n",
              "       [30.84995175],\n",
              "       [29.94006483],\n",
              "       [30.22957431],\n",
              "       [31.4289707 ],\n",
              "       [30.68451777],\n",
              "       [31.55304619],\n",
              "       [30.68451777],\n",
              "       [30.97402724],\n",
              "       [29.98142333],\n",
              "       [31.09810273],\n",
              "       [31.34625371],\n",
              "       [29.94006483],\n",
              "       [30.06414032],\n",
              "       [30.22957431],\n",
              "       [30.56044228],\n",
              "       [30.39500829],\n",
              "       [31.26353672],\n",
              "       [30.60180078],\n",
              "       [30.97402724],\n",
              "       [30.89131025],\n",
              "       [31.38761221],\n",
              "       [30.14685732],\n",
              "       [30.97402724],\n",
              "       [30.76723476],\n",
              "       [30.27093281],\n",
              "       [30.56044228],\n",
              "       [31.01538574],\n",
              "       [31.59440469],\n",
              "       [29.89870634],\n",
              "       [31.63576319],\n",
              "       [29.94006483],\n",
              "       [29.89870634],\n",
              "       [31.38761221],\n",
              "       [31.4289707 ],\n",
              "       [31.05674424],\n",
              "       [30.3536498 ],\n",
              "       [29.89870634],\n",
              "       [31.55304619],\n",
              "       [30.93266875],\n",
              "       [31.80119717],\n",
              "       [31.71848018],\n",
              "       [31.75983867],\n",
              "       [31.22217822],\n",
              "       [31.09810273],\n",
              "       [31.18081973],\n",
              "       [30.97402724],\n",
              "       [29.98142333],\n",
              "       [30.27093281],\n",
              "       [31.4289707 ],\n",
              "       [30.14685732],\n",
              "       [30.93266875],\n",
              "       [30.43636679],\n",
              "       [30.97402724],\n",
              "       [31.80119717],\n",
              "       [30.80859326],\n",
              "       [29.94006483],\n",
              "       [30.3536498 ],\n",
              "       [30.89131025],\n",
              "       [31.63576319],\n",
              "       [30.51908378],\n",
              "       [31.59440469],\n",
              "       [31.4703292 ],\n",
              "       [30.76723476],\n",
              "       [30.47772529],\n",
              "       [31.4289707 ],\n",
              "       [31.4703292 ],\n",
              "       [30.80859326],\n",
              "       [31.4703292 ],\n",
              "       [29.89870634],\n",
              "       [31.38761221],\n",
              "       [30.18821581],\n",
              "       [30.02278183],\n",
              "       [31.75983867],\n",
              "       [30.02278183],\n",
              "       [30.43636679],\n",
              "       [31.26353672],\n",
              "       [30.72587627],\n",
              "       [30.27093281],\n",
              "       [29.98142333],\n",
              "       [30.47772529],\n",
              "       [29.94006483],\n",
              "       [31.26353672],\n",
              "       [31.05674424],\n",
              "       [31.59440469],\n",
              "       [31.75983867],\n",
              "       [31.38761221],\n",
              "       [31.18081973],\n",
              "       [30.3122913 ],\n",
              "       [30.47772529],\n",
              "       [30.3122913 ],\n",
              "       [31.05674424],\n",
              "       [31.13946123],\n",
              "       [30.43636679],\n",
              "       [30.39500829],\n",
              "       [31.30489521],\n",
              "       [29.94006483],\n",
              "       [30.76723476],\n",
              "       [30.02278183],\n",
              "       [30.72587627],\n",
              "       [31.09810273],\n",
              "       [30.02278183],\n",
              "       [30.89131025],\n",
              "       [30.93266875],\n",
              "       [31.4703292 ],\n",
              "       [31.80119717],\n",
              "       [31.26353672],\n",
              "       [30.27093281],\n",
              "       [31.55304619],\n",
              "       [30.97402724],\n",
              "       [31.26353672],\n",
              "       [30.76723476],\n",
              "       [30.89131025],\n",
              "       [31.18081973],\n",
              "       [31.5116877 ],\n",
              "       [30.68451777],\n",
              "       [31.71848018],\n",
              "       [30.39500829],\n",
              "       [30.64315927],\n",
              "       [31.63576319],\n",
              "       [30.76723476],\n",
              "       [31.34625371],\n",
              "       [30.51908378],\n",
              "       [31.09810273],\n",
              "       [30.27093281],\n",
              "       [30.27093281],\n",
              "       [30.22957431],\n",
              "       [31.4703292 ],\n",
              "       [31.22217822],\n",
              "       [31.18081973],\n",
              "       [29.89870634],\n",
              "       [31.22217822],\n",
              "       [31.63576319],\n",
              "       [31.26353672],\n",
              "       [31.34625371],\n",
              "       [29.94006483],\n",
              "       [30.3536498 ],\n",
              "       [30.84995175],\n",
              "       [30.60180078],\n",
              "       [30.14685732],\n",
              "       [31.01538574],\n",
              "       [30.06414032],\n",
              "       [30.51908378],\n",
              "       [30.72587627],\n",
              "       [30.43636679],\n",
              "       [31.63576319],\n",
              "       [30.3536498 ],\n",
              "       [31.71848018],\n",
              "       [30.06414032],\n",
              "       [31.34625371],\n",
              "       [31.55304619],\n",
              "       [30.89131025],\n",
              "       [29.89870634],\n",
              "       [31.05674424],\n",
              "       [30.3122913 ],\n",
              "       [31.80119717],\n",
              "       [30.3122913 ],\n",
              "       [31.55304619],\n",
              "       [30.89131025],\n",
              "       [31.63576319],\n",
              "       [30.10549882],\n",
              "       [31.34625371],\n",
              "       [31.18081973],\n",
              "       [31.13946123],\n",
              "       [31.4289707 ],\n",
              "       [30.22957431],\n",
              "       [31.18081973],\n",
              "       [30.18821581],\n",
              "       [30.06414032],\n",
              "       [29.94006483],\n",
              "       [29.94006483],\n",
              "       [31.18081973],\n",
              "       [30.22957431],\n",
              "       [31.75983867],\n",
              "       [30.47772529],\n",
              "       [30.51908378],\n",
              "       [31.01538574],\n",
              "       [31.22217822],\n",
              "       [29.89870634],\n",
              "       [30.18821581],\n",
              "       [30.39500829],\n",
              "       [30.43636679],\n",
              "       [30.97402724],\n",
              "       [30.02278183],\n",
              "       [30.56044228],\n",
              "       [29.94006483],\n",
              "       [30.56044228],\n",
              "       [30.72587627],\n",
              "       [30.27093281],\n",
              "       [30.76723476],\n",
              "       [31.75983867],\n",
              "       [30.39500829],\n",
              "       [30.14685732],\n",
              "       [30.18821581],\n",
              "       [30.93266875],\n",
              "       [31.26353672],\n",
              "       [31.09810273],\n",
              "       [30.02278183],\n",
              "       [30.68451777],\n",
              "       [31.4289707 ],\n",
              "       [30.18821581],\n",
              "       [31.18081973],\n",
              "       [30.3536498 ],\n",
              "       [31.13946123],\n",
              "       [31.38761221],\n",
              "       [30.47772529],\n",
              "       [30.02278183],\n",
              "       [30.47772529],\n",
              "       [31.71848018],\n",
              "       [30.76723476],\n",
              "       [31.5116877 ],\n",
              "       [30.06414032],\n",
              "       [31.26353672],\n",
              "       [30.68451777],\n",
              "       [31.38761221],\n",
              "       [31.22217822],\n",
              "       [30.39500829],\n",
              "       [31.75983867],\n",
              "       [30.56044228],\n",
              "       [30.3122913 ],\n",
              "       [30.22957431],\n",
              "       [30.60180078],\n",
              "       [30.39500829],\n",
              "       [29.89870634],\n",
              "       [30.3536498 ],\n",
              "       [29.89870634],\n",
              "       [30.93266875],\n",
              "       [30.72587627],\n",
              "       [30.18821581],\n",
              "       [31.71848018],\n",
              "       [30.10549882],\n",
              "       [30.84995175],\n",
              "       [29.94006483],\n",
              "       [30.06414032],\n",
              "       [29.89870634],\n",
              "       [31.59440469],\n",
              "       [31.30489521],\n",
              "       [30.80859326],\n",
              "       [30.3536498 ],\n",
              "       [29.98142333],\n",
              "       [30.51908378],\n",
              "       [31.4703292 ],\n",
              "       [31.55304619],\n",
              "       [29.98142333],\n",
              "       [31.55304619],\n",
              "       [30.22957431],\n",
              "       [31.75983867],\n",
              "       [30.51908378],\n",
              "       [31.30489521],\n",
              "       [31.01538574],\n",
              "       [30.22957431],\n",
              "       [30.60180078],\n",
              "       [31.5116877 ],\n",
              "       [30.06414032],\n",
              "       [31.09810273],\n",
              "       [31.67712168],\n",
              "       [30.64315927],\n",
              "       [29.98142333],\n",
              "       [29.89870634],\n",
              "       [29.94006483],\n",
              "       [30.89131025],\n",
              "       [29.89870634],\n",
              "       [30.43636679],\n",
              "       [31.30489521],\n",
              "       [31.22217822]])"
            ]
          },
          "metadata": {},
          "execution_count": 76
        }
      ]
    },
    {
      "cell_type": "code",
      "source": [
        "clf.predict(x_test).shape"
      ],
      "metadata": {
        "colab": {
          "base_uri": "https://localhost:8080/"
        },
        "id": "qIAkhsBQzMuV",
        "outputId": "292b2251-63c1-4497-eff3-3eb28bb4835f"
      },
      "execution_count": null,
      "outputs": [
        {
          "output_type": "execute_result",
          "data": {
            "text/plain": [
              "(287, 1)"
            ]
          },
          "metadata": {},
          "execution_count": 77
        }
      ]
    },
    {
      "cell_type": "code",
      "source": [
        "#Compare any 2 predicted and actual values\n",
        "clf.predict(x_test[0:2])"
      ],
      "metadata": {
        "colab": {
          "base_uri": "https://localhost:8080/"
        },
        "id": "c6SC0aFLzVnR",
        "outputId": "cc10bbd0-da81-40f4-fe7a-87c98b1f75c2"
      },
      "execution_count": null,
      "outputs": [
        {
          "output_type": "execute_result",
          "data": {
            "text/plain": [
              "array([[29.89870634],\n",
              "       [30.3122913 ]])"
            ]
          },
          "metadata": {},
          "execution_count": 78
        }
      ]
    },
    {
      "cell_type": "code",
      "source": [
        "y_test[0:2]"
      ],
      "metadata": {
        "colab": {
          "base_uri": "https://localhost:8080/"
        },
        "id": "RsqR3N69zoaT",
        "outputId": "584ff76a-4ced-418c-d008-ea3de603d363"
      },
      "execution_count": null,
      "outputs": [
        {
          "output_type": "execute_result",
          "data": {
            "text/plain": [
              "array([[33.77],\n",
              "       [33.  ]])"
            ]
          },
          "metadata": {},
          "execution_count": 79
        }
      ]
    },
    {
      "cell_type": "code",
      "source": [
        "y_pred=clf.predict(x_test)"
      ],
      "metadata": {
        "id": "dVtRZalwztW9"
      },
      "execution_count": null,
      "outputs": []
    },
    {
      "cell_type": "code",
      "source": [
        "y_pred"
      ],
      "metadata": {
        "colab": {
          "base_uri": "https://localhost:8080/"
        },
        "id": "INe3736_zy5d",
        "outputId": "56754efe-e363-450a-9191-d77004c90727"
      },
      "execution_count": null,
      "outputs": [
        {
          "output_type": "execute_result",
          "data": {
            "text/plain": [
              "array([[29.89870634],\n",
              "       [30.3122913 ],\n",
              "       [30.51908378],\n",
              "       [30.10549882],\n",
              "       [29.94006483],\n",
              "       [30.56044228],\n",
              "       [31.75983867],\n",
              "       [30.10549882],\n",
              "       [31.75983867],\n",
              "       [30.3122913 ],\n",
              "       [31.71848018],\n",
              "       [30.3122913 ],\n",
              "       [31.63576319],\n",
              "       [30.64315927],\n",
              "       [29.98142333],\n",
              "       [30.80859326],\n",
              "       [30.27093281],\n",
              "       [30.06414032],\n",
              "       [31.01538574],\n",
              "       [31.4703292 ],\n",
              "       [31.59440469],\n",
              "       [31.80119717],\n",
              "       [31.4703292 ],\n",
              "       [30.84995175],\n",
              "       [29.94006483],\n",
              "       [30.22957431],\n",
              "       [31.4289707 ],\n",
              "       [30.68451777],\n",
              "       [31.55304619],\n",
              "       [30.68451777],\n",
              "       [30.97402724],\n",
              "       [29.98142333],\n",
              "       [31.09810273],\n",
              "       [31.34625371],\n",
              "       [29.94006483],\n",
              "       [30.06414032],\n",
              "       [30.22957431],\n",
              "       [30.56044228],\n",
              "       [30.39500829],\n",
              "       [31.26353672],\n",
              "       [30.60180078],\n",
              "       [30.97402724],\n",
              "       [30.89131025],\n",
              "       [31.38761221],\n",
              "       [30.14685732],\n",
              "       [30.97402724],\n",
              "       [30.76723476],\n",
              "       [30.27093281],\n",
              "       [30.56044228],\n",
              "       [31.01538574],\n",
              "       [31.59440469],\n",
              "       [29.89870634],\n",
              "       [31.63576319],\n",
              "       [29.94006483],\n",
              "       [29.89870634],\n",
              "       [31.38761221],\n",
              "       [31.4289707 ],\n",
              "       [31.05674424],\n",
              "       [30.3536498 ],\n",
              "       [29.89870634],\n",
              "       [31.55304619],\n",
              "       [30.93266875],\n",
              "       [31.80119717],\n",
              "       [31.71848018],\n",
              "       [31.75983867],\n",
              "       [31.22217822],\n",
              "       [31.09810273],\n",
              "       [31.18081973],\n",
              "       [30.97402724],\n",
              "       [29.98142333],\n",
              "       [30.27093281],\n",
              "       [31.4289707 ],\n",
              "       [30.14685732],\n",
              "       [30.93266875],\n",
              "       [30.43636679],\n",
              "       [30.97402724],\n",
              "       [31.80119717],\n",
              "       [30.80859326],\n",
              "       [29.94006483],\n",
              "       [30.3536498 ],\n",
              "       [30.89131025],\n",
              "       [31.63576319],\n",
              "       [30.51908378],\n",
              "       [31.59440469],\n",
              "       [31.4703292 ],\n",
              "       [30.76723476],\n",
              "       [30.47772529],\n",
              "       [31.4289707 ],\n",
              "       [31.4703292 ],\n",
              "       [30.80859326],\n",
              "       [31.4703292 ],\n",
              "       [29.89870634],\n",
              "       [31.38761221],\n",
              "       [30.18821581],\n",
              "       [30.02278183],\n",
              "       [31.75983867],\n",
              "       [30.02278183],\n",
              "       [30.43636679],\n",
              "       [31.26353672],\n",
              "       [30.72587627],\n",
              "       [30.27093281],\n",
              "       [29.98142333],\n",
              "       [30.47772529],\n",
              "       [29.94006483],\n",
              "       [31.26353672],\n",
              "       [31.05674424],\n",
              "       [31.59440469],\n",
              "       [31.75983867],\n",
              "       [31.38761221],\n",
              "       [31.18081973],\n",
              "       [30.3122913 ],\n",
              "       [30.47772529],\n",
              "       [30.3122913 ],\n",
              "       [31.05674424],\n",
              "       [31.13946123],\n",
              "       [30.43636679],\n",
              "       [30.39500829],\n",
              "       [31.30489521],\n",
              "       [29.94006483],\n",
              "       [30.76723476],\n",
              "       [30.02278183],\n",
              "       [30.72587627],\n",
              "       [31.09810273],\n",
              "       [30.02278183],\n",
              "       [30.89131025],\n",
              "       [30.93266875],\n",
              "       [31.4703292 ],\n",
              "       [31.80119717],\n",
              "       [31.26353672],\n",
              "       [30.27093281],\n",
              "       [31.55304619],\n",
              "       [30.97402724],\n",
              "       [31.26353672],\n",
              "       [30.76723476],\n",
              "       [30.89131025],\n",
              "       [31.18081973],\n",
              "       [31.5116877 ],\n",
              "       [30.68451777],\n",
              "       [31.71848018],\n",
              "       [30.39500829],\n",
              "       [30.64315927],\n",
              "       [31.63576319],\n",
              "       [30.76723476],\n",
              "       [31.34625371],\n",
              "       [30.51908378],\n",
              "       [31.09810273],\n",
              "       [30.27093281],\n",
              "       [30.27093281],\n",
              "       [30.22957431],\n",
              "       [31.4703292 ],\n",
              "       [31.22217822],\n",
              "       [31.18081973],\n",
              "       [29.89870634],\n",
              "       [31.22217822],\n",
              "       [31.63576319],\n",
              "       [31.26353672],\n",
              "       [31.34625371],\n",
              "       [29.94006483],\n",
              "       [30.3536498 ],\n",
              "       [30.84995175],\n",
              "       [30.60180078],\n",
              "       [30.14685732],\n",
              "       [31.01538574],\n",
              "       [30.06414032],\n",
              "       [30.51908378],\n",
              "       [30.72587627],\n",
              "       [30.43636679],\n",
              "       [31.63576319],\n",
              "       [30.3536498 ],\n",
              "       [31.71848018],\n",
              "       [30.06414032],\n",
              "       [31.34625371],\n",
              "       [31.55304619],\n",
              "       [30.89131025],\n",
              "       [29.89870634],\n",
              "       [31.05674424],\n",
              "       [30.3122913 ],\n",
              "       [31.80119717],\n",
              "       [30.3122913 ],\n",
              "       [31.55304619],\n",
              "       [30.89131025],\n",
              "       [31.63576319],\n",
              "       [30.10549882],\n",
              "       [31.34625371],\n",
              "       [31.18081973],\n",
              "       [31.13946123],\n",
              "       [31.4289707 ],\n",
              "       [30.22957431],\n",
              "       [31.18081973],\n",
              "       [30.18821581],\n",
              "       [30.06414032],\n",
              "       [29.94006483],\n",
              "       [29.94006483],\n",
              "       [31.18081973],\n",
              "       [30.22957431],\n",
              "       [31.75983867],\n",
              "       [30.47772529],\n",
              "       [30.51908378],\n",
              "       [31.01538574],\n",
              "       [31.22217822],\n",
              "       [29.89870634],\n",
              "       [30.18821581],\n",
              "       [30.39500829],\n",
              "       [30.43636679],\n",
              "       [30.97402724],\n",
              "       [30.02278183],\n",
              "       [30.56044228],\n",
              "       [29.94006483],\n",
              "       [30.56044228],\n",
              "       [30.72587627],\n",
              "       [30.27093281],\n",
              "       [30.76723476],\n",
              "       [31.75983867],\n",
              "       [30.39500829],\n",
              "       [30.14685732],\n",
              "       [30.18821581],\n",
              "       [30.93266875],\n",
              "       [31.26353672],\n",
              "       [31.09810273],\n",
              "       [30.02278183],\n",
              "       [30.68451777],\n",
              "       [31.4289707 ],\n",
              "       [30.18821581],\n",
              "       [31.18081973],\n",
              "       [30.3536498 ],\n",
              "       [31.13946123],\n",
              "       [31.38761221],\n",
              "       [30.47772529],\n",
              "       [30.02278183],\n",
              "       [30.47772529],\n",
              "       [31.71848018],\n",
              "       [30.76723476],\n",
              "       [31.5116877 ],\n",
              "       [30.06414032],\n",
              "       [31.26353672],\n",
              "       [30.68451777],\n",
              "       [31.38761221],\n",
              "       [31.22217822],\n",
              "       [30.39500829],\n",
              "       [31.75983867],\n",
              "       [30.56044228],\n",
              "       [30.3122913 ],\n",
              "       [30.22957431],\n",
              "       [30.60180078],\n",
              "       [30.39500829],\n",
              "       [29.89870634],\n",
              "       [30.3536498 ],\n",
              "       [29.89870634],\n",
              "       [30.93266875],\n",
              "       [30.72587627],\n",
              "       [30.18821581],\n",
              "       [31.71848018],\n",
              "       [30.10549882],\n",
              "       [30.84995175],\n",
              "       [29.94006483],\n",
              "       [30.06414032],\n",
              "       [29.89870634],\n",
              "       [31.59440469],\n",
              "       [31.30489521],\n",
              "       [30.80859326],\n",
              "       [30.3536498 ],\n",
              "       [29.98142333],\n",
              "       [30.51908378],\n",
              "       [31.4703292 ],\n",
              "       [31.55304619],\n",
              "       [29.98142333],\n",
              "       [31.55304619],\n",
              "       [30.22957431],\n",
              "       [31.75983867],\n",
              "       [30.51908378],\n",
              "       [31.30489521],\n",
              "       [31.01538574],\n",
              "       [30.22957431],\n",
              "       [30.60180078],\n",
              "       [31.5116877 ],\n",
              "       [30.06414032],\n",
              "       [31.09810273],\n",
              "       [31.67712168],\n",
              "       [30.64315927],\n",
              "       [29.98142333],\n",
              "       [29.89870634],\n",
              "       [29.94006483],\n",
              "       [30.89131025],\n",
              "       [29.89870634],\n",
              "       [30.43636679],\n",
              "       [31.30489521],\n",
              "       [31.22217822]])"
            ]
          },
          "metadata": {},
          "execution_count": 81
        }
      ]
    },
    {
      "cell_type": "code",
      "source": [
        "#Perform MAE, MSE and RMSE analysis\n",
        "mae=np.mean(np.abs(y_pred-y_test))"
      ],
      "metadata": {
        "id": "k8kfpQJhz0LW"
      },
      "execution_count": null,
      "outputs": []
    },
    {
      "cell_type": "code",
      "source": [
        "mse=np.mean((y_pred-y_test)**2)"
      ],
      "metadata": {
        "id": "gzeeF6Pv0Bw-"
      },
      "execution_count": null,
      "outputs": []
    },
    {
      "cell_type": "code",
      "source": [
        "rmse=np.sqrt(mse)"
      ],
      "metadata": {
        "id": "35w0fH_t0J_l"
      },
      "execution_count": null,
      "outputs": []
    },
    {
      "cell_type": "code",
      "source": [
        "print(mae)\n",
        "print(mse)\n",
        "print(rmse)"
      ],
      "metadata": {
        "colab": {
          "base_uri": "https://localhost:8080/"
        },
        "id": "J2L_wTpT0Wap",
        "outputId": "5e00587c-aa27-40fd-d7f6-a8f868bf0022"
      },
      "execution_count": null,
      "outputs": [
        {
          "output_type": "stream",
          "name": "stdout",
          "text": [
            "5.156794926998036\n",
            "41.86802597190296\n",
            "6.470550669912335\n"
          ]
        }
      ]
    },
    {
      "cell_type": "code",
      "source": [
        ""
      ],
      "metadata": {
        "id": "w7Smqyu60bIR"
      },
      "execution_count": null,
      "outputs": []
    }
  ]
}